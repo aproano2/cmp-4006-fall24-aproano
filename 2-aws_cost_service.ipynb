{
 "cells": [
  {
   "cell_type": "markdown",
   "id": "cbfb925f",
   "metadata": {
    "slideshow": {
     "slide_type": "slide"
    }
   },
   "source": [
    "# Cloud Computing\n",
    "\n",
    "### CMP-4006\n",
    "\n",
    "### Alejandro Proano, PhD"
   ]
  },
  {
   "cell_type": "markdown",
   "id": "de2ffd13",
   "metadata": {
    "slideshow": {
     "slide_type": "slide"
    }
   },
   "source": [
    "## AWS Pricing\n",
    "\n",
    "There are three fundamental drivers of cost with AWS: compute, storage, and outbound data transfer."
   ]
  },
  {
   "cell_type": "markdown",
   "id": "d4d81fb0",
   "metadata": {
    "slideshow": {
     "slide_type": "subslide"
    }
   },
   "source": [
    "### Compute\n",
    "\n",
    "- Charged per hour/second\n",
    "- Varies by instance type"
   ]
  },
  {
   "cell_type": "markdown",
   "id": "857ab59d",
   "metadata": {
    "slideshow": {
     "slide_type": "subslide"
    }
   },
   "source": [
    "### Storage\n",
    "- Charged typically per GB"
   ]
  },
  {
   "cell_type": "markdown",
   "id": "dac3b996",
   "metadata": {
    "slideshow": {
     "slide_type": "subslide"
    }
   },
   "source": [
    "### Data transfer\n",
    "- Outbound is aggregated and charged\n",
    "- Inbound has no charge (with some exceptions)\n",
    "- Charged typically per GB\n",
    "\n",
    "In most cases, there is no charge for inbound data transfer or for data transfer between other AWS services within the same AWS Region. There are some exceptions, so be sure to verify data transfer rates before you begin to use the AWS service"
   ]
  },
  {
   "cell_type": "markdown",
   "id": "664765ce",
   "metadata": {
    "slideshow": {
     "slide_type": "slide"
    }
   },
   "source": [
    "## Pricing model\n",
    "\n",
    "- AWS offers a range of cloud computing services. For each service, you pay for exactly the amount of resources that you actually need. \n",
    "\n",
    "- This utility-style pricing model includes:\n",
    "\n",
    "    - Pay for what you use\n",
    "    - Pay less when you reserve\n",
    "    - Pay less when you use more\n",
    "    - Pay even less as AWS grows "
   ]
  },
  {
   "cell_type": "markdown",
   "id": "8e3ca166",
   "metadata": {
    "slideshow": {
     "slide_type": "subslide"
    }
   },
   "source": [
    "### Demo\n",
    "\n",
    "https://aws.amazon.com/pricing/"
   ]
  },
  {
   "attachments": {},
   "cell_type": "markdown",
   "id": "1d9ba616",
   "metadata": {
    "slideshow": {
     "slide_type": "slide"
    }
   },
   "source": [
    "## Total cost of ownership\n",
    "\n",
    "![tco](./images/tco.png)"
   ]
  },
  {
   "cell_type": "markdown",
   "id": "e1af9af4",
   "metadata": {
    "slideshow": {
     "slide_type": "subslide"
    }
   },
   "source": [
    "### Comparison\n",
    "\n",
    "![compare](./images/compare.png)"
   ]
  },
  {
   "cell_type": "markdown",
   "id": "fbe0e82b",
   "metadata": {
    "slideshow": {
     "slide_type": "subslide"
    }
   },
   "source": [
    "### Servicio al cliente\n",
    "\n",
    "![plans](./images/serviceplans.png)"
   ]
  },
  {
   "cell_type": "markdown",
   "id": "62640606",
   "metadata": {
    "slideshow": {
     "slide_type": "subslide"
    }
   },
   "source": [
    "## Servicio al cliente\n",
    "\n",
    "![service](./images/servicetimes.png)"
   ]
  },
  {
   "cell_type": "markdown",
   "id": "4d7ad4ff",
   "metadata": {
    "slideshow": {
     "slide_type": "slide"
    }
   },
   "source": [
    "## Class exercise\n",
    "\n",
    "You are the advising the CTO of a company about moving to the cloud. The company offers a video streaming application.\n",
    "\n",
    "- 1,500 subscribers expected to grow at a 10% rate per year for the next 3 years\n",
    "- The application releases a new video every day. Typically users watch the lastest video within 30 days of release. After 30 days, videos tend not to be watched. \n",
    "- Each video has a size of 5GB\n",
    "- The company also does analysis of the watching patterns of users for advertisement targeting. \n",
    "\n",
    "1. What AWS products would you recommend for this customer?\n",
    "2. Make a cost estimation of these products\n",
    "3. What level of service would you recommend?"
   ]
  }
 ],
 "metadata": {
  "celltoolbar": "Slideshow",
  "kernelspec": {
   "display_name": "Python 3 (ipykernel)",
   "language": "python",
   "name": "python3"
  },
  "language_info": {
   "codemirror_mode": {
    "name": "ipython",
    "version": 3
   },
   "file_extension": ".py",
   "mimetype": "text/x-python",
   "name": "python",
   "nbconvert_exporter": "python",
   "pygments_lexer": "ipython3",
   "version": "3.12.4"
  }
 },
 "nbformat": 4,
 "nbformat_minor": 5
}
