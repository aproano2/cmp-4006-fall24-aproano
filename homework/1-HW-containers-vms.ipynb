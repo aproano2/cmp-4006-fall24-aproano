{
 "cells": [
  {
   "cell_type": "markdown",
   "id": "d6dfbd98",
   "metadata": {},
   "source": [
    "## Cloud Computing\n",
    "\n",
    "## Homework 1 - Containers and Virtual Machines\n",
    "\n",
    "In this assignment we will be comparing the usage and performance of both virtual machines and containers. For this activity, you’ll be working on groups of 2 people (max 3).\n",
    "\n",
    "### Requirements:\n",
    "\n",
    "- The server: 1 computer running Vagrant and Docker\n",
    "\n",
    "- The client: 1 computer with at least Vagrant\n",
    "\n",
    "### Experiment 1:\n",
    "\n",
    "For the server, write a Vagrant file that starts a Ubuntu VM, installs and configures a web server such as NGINX, and starts up the web server. The web server should host a very simple web page.\n",
    "\n",
    "In the client, you’ll write a Vagrant file that starts Ubuntu and installs wrk. Then you’ll login into the VM, and use wrk to run a load test against the web server running in the server machine.\n",
    "\n",
    "You can find wrk at: https://github.com/wg/wrk\n",
    "\n",
    "Note that for this experiment to work, you will need to make sure that you configure the network of the VM in the right way. You can find tutorials online on how to do this.\n",
    "\n",
    "Make sure that your load test runs for at least 3 minutes. Your load test should generate at least 100 requests per second. When your load test is running, you should take screenshots that show the CPU and memory utilization of the server machine.\n",
    "\n",
    "### Experiment 2:\n",
    "\n",
    "You’ll repeat the same experiment as before. The only difference is that you have to run the web server in Docker instead of a virtual machine.\n",
    "\n",
    "### Submission:\n",
    "\n",
    "Create a GitHub repo with the following:\n",
    "\n",
    "- Vagrant file to configure and run the web server\n",
    "- Dockerfile to configure and run the server\n",
    "- Vagrant file to install wrk\n",
    "- Document describing the details of your experiments. Include URLs to the Vagrant and Dockerfiles. Include the commands you run to generate the load test. Finally, include an analysis of the main differences you note between containers and virtual machines. Use the values of CPU and memory utilization in your analysis."
   ]
  }
 ],
 "metadata": {
  "kernelspec": {
   "display_name": "Python 3 (ipykernel)",
   "language": "python",
   "name": "python3"
  },
  "language_info": {
   "codemirror_mode": {
    "name": "ipython",
    "version": 3
   },
   "file_extension": ".py",
   "mimetype": "text/x-python",
   "name": "python",
   "nbconvert_exporter": "python",
   "pygments_lexer": "ipython3",
   "version": "3.12.4"
  }
 },
 "nbformat": 4,
 "nbformat_minor": 5
}
