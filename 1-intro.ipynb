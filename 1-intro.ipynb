{
 "cells": [
  {
   "cell_type": "markdown",
   "id": "85e44ad7",
   "metadata": {
    "slideshow": {
     "slide_type": "slide"
    }
   },
   "source": [
    "# Cloud Computing\n",
    "\n",
    "### CMP-4006\n",
    "\n",
    "### Alejandro Proano, PhD"
   ]
  },
  {
   "cell_type": "markdown",
   "id": "804ad4fb",
   "metadata": {
    "slideshow": {
     "slide_type": "slide"
    }
   },
   "source": [
    "## Introduction\n",
    "\n",
    "\"If computers of the kind I have advocated become the computers of the future, then computing may someday be organized as a public utility just as the telephone system is a public utility… The computer utility could become the basis of a new and important industry.\"\n",
    "\n",
    " John McCarthy, 1961\n",
    " \n",
    " \n",
    " “As of now, computer networks are still in their infancy, but as they grow up and become more sophisticated, we will probably see the spread of ‘computer utilities,’ which, like present electric and telephone utilities, will service individual homes and offices across the country.”\n",
    "\n",
    "Leonard Kleinrock\n"
   ]
  },
  {
   "cell_type": "markdown",
   "id": "632543f0",
   "metadata": {
    "slideshow": {
     "slide_type": "subslide"
    }
   },
   "source": [
    "## Early days\n",
    "\n",
    "Internet-based computer utilities since the 1990s:\n",
    "\n",
    "- search engines\n",
    "- email services\n",
    "- social media"
   ]
  },
  {
   "cell_type": "markdown",
   "id": "1f916f93",
   "metadata": {
    "slideshow": {
     "slide_type": "subslide"
    }
   },
   "source": [
    "## History\n",
    "\n",
    "- 1999: Salesforce.com offered remotely provisioned services into the enterprise\n",
    "- 2006: Amazon.com launched Amazon Web Services (AWS). Enterprised-oriented services that provide remotely provisioned storage, computing resources, and business functionality. "
   ]
  },
  {
   "cell_type": "markdown",
   "id": "e5d4a56a",
   "metadata": {
    "slideshow": {
     "slide_type": "subslide"
    }
   },
   "source": [
    "## Cloud Computing \n",
    "\n",
    "- Cloud computing is the on-demand availability of computing resources such as storage and infrastructure, as services over the internet. \n",
    "\n",
    "- It eliminates the need for individuals and businesses to self-manage physical resources themselves, and only pay for what they use. \n",
    "\n",
    "- Cloud computing offers computing resources as scalable, on-demand services, which can be accessed remotely over the internet. The main cloud computing service models include:\n",
    "\n",
    "    - Infrastructure as a Service (IaaS): Offers compute and storage services.\n",
    "    - Platform as a Service (PaaS): Offers a develop-and-deploy environment to build cloud apps.\n",
    "    - Software as a Service (SaaS): Delivers apps as services.\n",
    "   "
   ]
  },
  {
   "cell_type": "markdown",
   "id": "d431a9b5",
   "metadata": {
    "slideshow": {
     "slide_type": "slide"
    }
   },
   "source": [
    "## Motivation and Drivers"
   ]
  },
  {
   "cell_type": "markdown",
   "id": "b81b7bc7",
   "metadata": {
    "slideshow": {
     "slide_type": "subslide"
    }
   },
   "source": [
    "### Cost\n",
    "\n",
    "Reduce the costs of acquisition and ownership:\n",
    "\n",
    "- Cost of purchasing and maintaining hardware, software, and networking equipment.\n",
    "- Cost of electricity, cooling, and physical space.\n",
    "- Software maintenance: patching, upgrades, solving issues, etc\n",
    "- Security and access control measurements\n",
    "- Administration for access to the hardware \n"
   ]
  },
  {
   "cell_type": "markdown",
   "id": "4068433b",
   "metadata": {
    "slideshow": {
     "slide_type": "slide"
    }
   },
   "source": [
    "## Terminology"
   ]
  },
  {
   "cell_type": "markdown",
   "id": "1729ae82",
   "metadata": {
    "slideshow": {
     "slide_type": "subslide"
    }
   },
   "source": [
    "### On premises\n",
    "\n",
    "- On-premises devices refer to IT infrastructure hardware and software applications that are hosted on-site. This means that the servers are physically located within the organization’s premises, and the organization is responsible for maintaining and managing the servers.\n",
    "\n",
    "- On-premises servers are installed on the organization’s own servers or rented servers, and the licensee runs the software in their own data center on their own or rented hardware.ed as services over the internet 3.\n",
    "\n",
    "- On-premises servers offer businesses full control over their data and applications, including the ability to customize and configure their IT infrastructure to meet their specific needs. \n"
   ]
  },
  {
   "cell_type": "markdown",
   "id": "345ebcd2",
   "metadata": {
    "slideshow": {
     "slide_type": "subslide"
    }
   },
   "source": [
    "### Cloud providers\n",
    "\n",
    "Companies offering cloud services such as AWS, Azure, Google Cloud"
   ]
  },
  {
   "cell_type": "markdown",
   "id": "4fcd2125",
   "metadata": {
    "slideshow": {
     "slide_type": "subslide"
    }
   },
   "source": [
    "### Cloud consumer\n",
    "\n",
    "Companies or individuals that use the services offered by cloud providers"
   ]
  },
  {
   "cell_type": "markdown",
   "id": "2c753335",
   "metadata": {
    "slideshow": {
     "slide_type": "subslide"
    }
   },
   "source": [
    "### Scaling\n",
    "\n",
    "Ability of compute resources to handle increased or decreased usage demands\n",
    "\n",
    "- **Horizontal scaling:** scaling out and scaling in\n",
    "- **Vertical scaling:** scaling up and scaling down "
   ]
  },
  {
   "cell_type": "markdown",
   "id": "51140f61",
   "metadata": {
    "slideshow": {
     "slide_type": "subslide"
    }
   },
   "source": [
    "### Cloud service\n",
    "\n",
    "Any compute resource that is remotely accessible via a cloud. "
   ]
  },
  {
   "cell_type": "markdown",
   "id": "1aa33812",
   "metadata": {
    "slideshow": {
     "slide_type": "slide"
    }
   },
   "source": [
    "## Benefits of Cloud Computing\n",
    "\n",
    "**Increase responsivenes**\n",
    "\n",
    "- Cloud helps organizations to become more agile:\n",
    "   - Developers and users can have access to needed resources quickly\n",
    "\n",
    "**Reduced investments and propotional costs**\n",
    "\n",
    "- Reduction of upfront investments and risks\n",
    "\n",
    "**Increased scalability**\n",
    "\n",
    "**Increased availability and reliability**\n"
   ]
  },
  {
   "cell_type": "markdown",
   "id": "8f3140c1",
   "metadata": {
    "slideshow": {
     "slide_type": "slide"
    }
   },
   "source": [
    "## Risk and Challenges\n",
    "\n",
    "**Increased vulnerability due to overlapping trust boundaries**\n",
    "\n",
    "- Organization's responsibility over data security is shared with the cloud provider\n",
    "\n",
    "**Increased vulnerability due to shared security responsibility**\n",
    "\n",
    "**Increased exposure to cyber threats**\n",
    "\n",
    "**Reduced operational governance control**\n",
    "\n",
    "- An unreliable cloud provider might not maintain the guarantees done in an SLA. This could jeopardize the quality of the cloud consumer solutions that rely on this cloud services. \n",
    "- Longer geographic fistances between the consumer and provider might introduce fluctuations in latency and bandwidth.\n",
    "\n",
    "**Limited protability between cloud providers**\n",
    "\n",
    "**Multiregional compliance and legal issues**\n",
    "\n",
    "- UK laws require personal data of UK citizens to be kept within the UK\n",
    "- Countries usually have laws regarding data to be surrendered to different government agencies\n",
    "    - Ex: EU consumer running in an US cloud provider might expose its data to US government agencies\n",
    "    \n",
    "**Cost overruns**\n",
    "\n",
    "- Planning is usually difficult and the cost of cloud deployments might easily exceed the original plans\n",
    "\n"
   ]
  }
 ],
 "metadata": {
  "celltoolbar": "Slideshow",
  "kernelspec": {
   "display_name": "Python 3 (ipykernel)",
   "language": "python",
   "name": "python3"
  },
  "language_info": {
   "codemirror_mode": {
    "name": "ipython",
    "version": 3
   },
   "file_extension": ".py",
   "mimetype": "text/x-python",
   "name": "python",
   "nbconvert_exporter": "python",
   "pygments_lexer": "ipython3",
   "version": "3.12.4"
  }
 },
 "nbformat": 4,
 "nbformat_minor": 5
}
