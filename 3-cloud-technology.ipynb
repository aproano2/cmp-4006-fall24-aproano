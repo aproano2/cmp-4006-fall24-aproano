{
 "cells": [
  {
   "cell_type": "markdown",
   "id": "85e44ad7",
   "metadata": {
    "slideshow": {
     "slide_type": "slide"
    }
   },
   "source": [
    "# Cloud Computing\n",
    "\n",
    "### CMP-4006\n",
    "\n",
    "### Alejandro Proano, PhD"
   ]
  },
  {
   "cell_type": "markdown",
   "id": "804ad4fb",
   "metadata": {
    "slideshow": {
     "slide_type": "slide"
    }
   },
   "source": [
    "## Types of services\n",
    "\n",
    "**IaaS (Infrastructure as a Service):** It is a cloud computing model that provides virtualized computing resources over the internet. IaaS provides users with access to computing resources such as servers, storage, and networking. Users can use these resources to build and manage their own applications and services. Examples of IaaS include Microsoft Azure, Amazon Web Services (AWS), and Google Compute Engine.\n",
    "\n",
    "**PaaS (Platform as a Service):** It is a cloud computing model that provides a platform for users to develop, run, and manage their own applications without having to worry about the underlying infrastructure. PaaS provides users with a pre-configured platform that includes an operating system, programming language, and other tools required for application development. Examples of PaaS include Google App Engine, Heroku, and OpenShift.\n",
    "\n",
    "**SaaS (Software as a Service):** It is a cloud computing model that provides users with access to software applications over the internet. SaaS eliminates the need for users to install and run software on their own computers. Instead, users can access the software through a web browser or mobile app. Examples of SaaS include Microsoft Office 365, Salesforce, and Dropbox"
   ]
  },
  {
   "cell_type": "markdown",
   "id": "632543f0",
   "metadata": {
    "slideshow": {
     "slide_type": "slide"
    }
   },
   "source": [
    "## Types of clouds\n"
   ]
  },
  {
   "cell_type": "markdown",
   "id": "7a356d25",
   "metadata": {
    "slideshow": {
     "slide_type": "subslide"
    }
   },
   "source": [
    "### Public Cloud \n",
    "\n",
    "A public cloud is a cloud computing model that provides computing resources such as servers, storage, and applications over the internet. Public clouds are owned and operated by third-party providers and are available to the general public. Examples of public clouds include Microsoft Azure, Amazon Web Services (AWS), and Google Cloud Platform.\n"
   ]
  },
  {
   "cell_type": "markdown",
   "id": "3ecde0dd",
   "metadata": {
    "slideshow": {
     "slide_type": "subslide"
    }
   },
   "source": [
    "### Private Cloud\n",
    "\n",
    "A private cloud is a cloud computing model that provides computing resources such as servers, storage, and applications to a single organization. Private clouds are owned and operated by the organization itself or by a third-party provider. Private clouds are generally used by organizations that require more control over their data and applications. Examples of private clouds include IBM Cloud, VMware, and OpenStack.\n"
   ]
  },
  {
   "cell_type": "markdown",
   "id": "87c13221",
   "metadata": {
    "slideshow": {
     "slide_type": "subslide"
    }
   },
   "source": [
    "### Hybrid Cloud:\n",
    "\n",
    "A hybrid cloud is a cloud computing model that combines public and private clouds. Hybrid clouds allow data and applications to move between the two environments. Many organizations choose a hybrid cloud approach due to business imperatives such as meeting regulatory and data sovereignty requirements, taking full advantage of on-premises technology investment, or addressing low latency issues. Examples of hybrid clouds include Microsoft Azure, AWS, and Google Cloud Platform"
   ]
  },
  {
   "cell_type": "markdown",
   "id": "b19f8950",
   "metadata": {
    "slideshow": {
     "slide_type": "slide"
    }
   },
   "source": [
    "## Cloud Infrastructure"
   ]
  },
  {
   "cell_type": "markdown",
   "id": "7a764e5a",
   "metadata": {
    "slideshow": {
     "slide_type": "subslide"
    }
   },
   "source": [
    "### Virtualization\n",
    "\n",
    "A virtual machine (VM) is a software emulation of a physical computer that can run its own operating system and applications. VMs are created by partitioning the resources of a physical computer into multiple virtual computers, each with its own operating system and applications. This allows multiple VMs to run on a single physical computer, each with its own isolated environmen.\n",
    "\n",
    "When a VM is created, it is allocated a portion of the physical computer’s resources such as CPU, memory, and storage. The VM uses these resources to run its own operating system and applications as if it were running on a physical computer. The VM can also be configured to have its own network interface, allowing it to communicate with other VMs or physical computers on the same network.\n",
    "\n",
    "VMs are commonly used in cloud computing environments to provide users with access to computing resources such as servers, storage, and networking. Cloud providers such as Microsoft Azure, Amazon Web Services (AWS), and Google Cloud Platform use VMs to provide Infrastructure as a Service (IaaS) to their customers."
   ]
  },
  {
   "cell_type": "markdown",
   "id": "1f916f93",
   "metadata": {
    "slideshow": {
     "slide_type": "subslide"
    }
   },
   "source": [
    "### Hypervisor\n",
    "\n",
    "A hypervisor is a piece of software that creates and manages virtual machines (VMs). Hypervisors are also known as virtual machine managers (VMMs).\n",
    "\n",
    "There are two types of hypervisors:\n",
    "\n",
    "**Type 1 Hypervisors:** Also known as bare-metal hypervisors, these hypervisors run directly on the host computer’s hardware. They do not require a separate operating system to be installed. Type 1 hypervisors are generally more efficient and provide better performance than Type 2 hypervisors. Examples of Type 1 hypervisors include VMware ESXi, Microsoft Hyper-V, and Citrix Hypervisor, KVM.\n",
    "\n",
    "**Type 2 Hypervisors:** Also known as hosted hypervisors, these hypervisors run on top of a host operating system. Type 2 hypervisors are generally less efficient and provide lower performance than Type 1 hypervisors. Examples of Type 2 hypervisors include Oracle VirtualBox, VMware Workstation, and Parallels Desktop.\n",
    "\n"
   ]
  },
  {
   "cell_type": "markdown",
   "id": "d431a9b5",
   "metadata": {
    "slideshow": {
     "slide_type": "subslide"
    }
   },
   "source": [
    "## Applications of virtual machines"
   ]
  },
  {
   "cell_type": "markdown",
   "id": "b81b7bc7",
   "metadata": {
    "slideshow": {
     "slide_type": "subslide"
    }
   },
   "source": [
    "### A Network Attached Storage (NAS) \n",
    "\n",
    "- It is a file-level computer data storage server that is connected to a computer network and provides data access to a group of clients.\n",
    "\n",
    "- It is a centralized file server that allows multiple users to store and share files over a TCP/IP network via Wi-Fi or an Ethernet cable.\n",
    "\n",
    "- They make it easy to share a pool of storage between an entire network of computers and other devices, and are designed to be scalable, with many solutions allowing you to simply add or replace drives when you run out of space. Some of these systems use many drives in RAID for redundancy or speed, while others rely on a single drive bay for much smaller operations3.\n"
   ]
  },
  {
   "cell_type": "markdown",
   "id": "021b628a",
   "metadata": {
    "slideshow": {
     "slide_type": "subslide"
    }
   },
   "source": [
    "### Networking\n",
    "\n",
    "- DNS servers\n",
    "- Caching servers\n",
    "- WAF\n",
    "- Routers"
   ]
  },
  {
   "cell_type": "markdown",
   "id": "2d48eb07",
   "metadata": {
    "slideshow": {
     "slide_type": "slide"
    }
   },
   "source": [
    "### Exercise\n",
    "\n",
    "- Install Virtual Box in your local computer \n",
    "    - https://www.virtualbox.org/\n",
    "- Create a virtual machine that runs Ubuntu as the OS\n",
    "    - https://ubuntu.com/download"
   ]
  }
 ],
 "metadata": {
  "celltoolbar": "Slideshow",
  "kernelspec": {
   "display_name": "Python 3 (ipykernel)",
   "language": "python",
   "name": "python3"
  },
  "language_info": {
   "codemirror_mode": {
    "name": "ipython",
    "version": 3
   },
   "file_extension": ".py",
   "mimetype": "text/x-python",
   "name": "python",
   "nbconvert_exporter": "python",
   "pygments_lexer": "ipython3",
   "version": "3.12.4"
  }
 },
 "nbformat": 4,
 "nbformat_minor": 5
}
